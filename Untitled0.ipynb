{
  "nbformat": 4,
  "nbformat_minor": 0,
  "metadata": {
    "colab": {
      "provenance": [],
      "authorship_tag": "ABX9TyP7Vk2S2Vq3HNlddK0gPl/C",
      "include_colab_link": true
    },
    "kernelspec": {
      "name": "python3",
      "display_name": "Python 3"
    },
    "language_info": {
      "name": "python"
    }
  },
  "cells": [
    {
      "cell_type": "markdown",
      "metadata": {
        "id": "view-in-github",
        "colab_type": "text"
      },
      "source": [
        "<a href=\"https://colab.research.google.com/github/luh66/aula-progra/blob/main/Untitled0.ipynb\" target=\"_parent\"><img src=\"https://colab.research.google.com/assets/colab-badge.svg\" alt=\"Open In Colab\"/></a>"
      ]
    },
    {
      "cell_type": "code",
      "execution_count": 3,
      "metadata": {
        "id": "ozupTTxN_Rjm"
      },
      "outputs": [],
      "source": [
        "#criando uma lista\n",
        "frutas = ['jaca', 'manga', 'morango', 'pinha', 'goiaba']"
      ]
    },
    {
      "cell_type": "code",
      "source": [
        "for i in frutas:\n",
        "  print(i)\n"
      ],
      "metadata": {
        "colab": {
          "base_uri": "https://localhost:8080/"
        },
        "id": "GupZ1Z1QFh9L",
        "outputId": "0d6e8531-ae9f-484d-a6cb-ee376725c284"
      },
      "execution_count": 7,
      "outputs": [
        {
          "output_type": "stream",
          "name": "stdout",
          "text": [
            "jaca\n",
            "manga\n",
            "morango\n",
            "pinha\n",
            "goiaba\n"
          ]
        }
      ]
    },
    {
      "cell_type": "code",
      "source": [
        "for i in frutas:\n",
        "  if(i == 'morango'):\n",
        "    print(i)\n",
        "  "
      ],
      "metadata": {
        "colab": {
          "base_uri": "https://localhost:8080/"
        },
        "id": "UAtlM6eEFiRq",
        "outputId": "2004beab-d453-4752-b05a-7661f5407767"
      },
      "execution_count": 10,
      "outputs": [
        {
          "output_type": "stream",
          "name": "stdout",
          "text": [
            "morango\n"
          ]
        }
      ]
    },
    {
      "cell_type": "code",
      "source": [
        "fruta = input ('insira uma fruta: ')\n",
        "#inserir valores em listas\n",
        "frutas.append(frutas)\n",
        "frutas"
      ],
      "metadata": {
        "colab": {
          "base_uri": "https://localhost:8080/"
        },
        "id": "Rsoau6YaIsvr",
        "outputId": "d8bc1aa1-e7c0-4df3-e734-7f95b7c67bb6"
      },
      "execution_count": 19,
      "outputs": [
        {
          "name": "stdout",
          "output_type": "stream",
          "text": [
            "insira uma fruta: maracujá\n"
          ]
        },
        {
          "output_type": "execute_result",
          "data": {
            "text/plain": [
              "['jaca', 'manga', 'morango', 'pinha', 'goiaba', [...], [...], [...], [...]]"
            ]
          },
          "metadata": {},
          "execution_count": 19
        }
      ]
    },
    {
      "cell_type": "code",
      "source": [
        "notas = [8, 9, 3, 4, 7, 10, 3, 6, 7]"
      ],
      "metadata": {
        "id": "Y40hXSyUI27i"
      },
      "execution_count": 20,
      "outputs": []
    },
    {
      "cell_type": "code",
      "source": [
        "for nota in notas:\n",
        "  if(nota >= 7):\n",
        "    print(nota)"
      ],
      "metadata": {
        "colab": {
          "base_uri": "https://localhost:8080/"
        },
        "id": "r8p_AP5YJFXa",
        "outputId": "3a6816da-40ac-4d4e-e734-6d4e1f997fb2"
      },
      "execution_count": 22,
      "outputs": [
        {
          "output_type": "stream",
          "name": "stdout",
          "text": [
            "8\n",
            "9\n",
            "7\n",
            "10\n",
            "7\n"
          ]
        }
      ]
    },
    {
      "cell_type": "code",
      "source": [
        "#exiba a quantidade de reprovados\n",
        "aprovados = 0\n",
        "reprovados = 0 \n",
        "for nota in notas:\n",
        "  if(nota >= 7):\n",
        "    aprovados +=1\n",
        "  else:\n",
        "    reprovados += 1\n",
        "\n",
        "print('aprovados', aprovados)\n",
        "print('reprovados', reprovados)"
      ],
      "metadata": {
        "colab": {
          "base_uri": "https://localhost:8080/"
        },
        "id": "tWVG_HRjMEyJ",
        "outputId": "c412fa42-1636-48c4-aac0-906e3e496da9"
      },
      "execution_count": 25,
      "outputs": [
        {
          "output_type": "stream",
          "name": "stdout",
          "text": [
            "aprovados 5\n",
            "reprovados 4\n"
          ]
        }
      ]
    },
    {
      "cell_type": "code",
      "source": [
        "#digite o nome de cidades.\n",
        "#o laço encerra, quando digitar 0.\n",
        "cidades = []\n",
        "city = input('digite uma cidade: ')\n",
        "while(city != '0'):\n",
        " cidades.append(city)\n",
        " city = input('digite uma cidade: ')\n",
        "\n",
        " cidades\n",
        "\n"
      ],
      "metadata": {
        "colab": {
          "base_uri": "https://localhost:8080/"
        },
        "id": "sNsfioHRUbZf",
        "outputId": "3d3471a1-a5cf-4c5d-9c86-aa475d481601"
      },
      "execution_count": 26,
      "outputs": [
        {
          "name": "stdout",
          "output_type": "stream",
          "text": [
            "digite uma cidade: João Pessoa\n",
            "digite uma cidade: Mossoró\n",
            "digite uma cidade: São Paulo\n",
            "digite uma cidade: 0\n"
          ]
        }
      ]
    },
    {
      "cell_type": "code",
      "source": [
        "#par oiu impar\n",
        "num = int(input('digite um numero: '))\n",
        "\n",
        "while(num >= 0):\n",
        "  if(num % 2 == 0):\n",
        "    print('é par')\n",
        "    num = int(input('digite um numero: '))\n",
        "  ]else:\n",
        "   print('é impar')\n",
        "   num = int(input('digite um numero: '))\n",
        "\n",
        "print('acabou o prohgrama')"
      ],
      "metadata": {
        "colab": {
          "base_uri": "https://localhost:8080/"
        },
        "id": "CEMdDdj6a0Dy",
        "outputId": "cf9dfeff-04bf-4ab2-9ed1-89ea0046a7f5"
      },
      "execution_count": 29,
      "outputs": [
        {
          "output_type": "stream",
          "name": "stdout",
          "text": [
            "digite um numero: 30\n",
            "é par\n",
            "digite um numero: 59\n",
            "é impar\n",
            "digite um numero: 60\n",
            "é par\n",
            "digite um numero: 88\n",
            "é par\n",
            "digite um numero: 99\n",
            "é impar\n",
            "digite um numero: -10\n",
            "acabou o prohgrama\n"
          ]
        }
      ]
    }
  ]
}